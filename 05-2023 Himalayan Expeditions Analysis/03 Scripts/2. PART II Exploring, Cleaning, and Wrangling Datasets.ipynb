{
 "cells": [
  {
   "cell_type": "markdown",
   "id": "511ae306",
   "metadata": {},
   "source": [
    "### This script contains the following points:\n",
    "#### 1. Importing libraries, defining project path, importing data set expedition.csv\n",
    "- Importing dataset \"expeditions_clean.pkl\" as \"df_exp\"\n",
    "\n",
    "#### 2. Dropping outliers from complete dataset\n",
    "\n",
    "#### 3. Creating subset for 2010 - 2020 data\n",
    "\n",
    "#### 4. Exporting df_no_outs_3 to 'expeditions_clean_2.pkl'\n",
    "\n",
    "#### 5. Exporting df_exp_recent to 'expeditions_recent_subset.pkl'"
   ]
  },
  {
   "cell_type": "markdown",
   "id": "da523537",
   "metadata": {},
   "source": [
    "## 1. Importing libraries, defining project path, importing data set expedition.csv"
   ]
  },
  {
   "cell_type": "code",
   "execution_count": 1,
   "id": "4c8aed82",
   "metadata": {},
   "outputs": [],
   "source": [
    "# Importing pandas, numpy, and os\n",
    "import pandas as pd\n",
    "import numpy as np\n",
    "import os\n",
    "import plotly.express as px\n",
    "import operator"
   ]
  },
  {
   "cell_type": "code",
   "execution_count": 2,
   "id": "93502d40",
   "metadata": {},
   "outputs": [],
   "source": [
    "# Defining project folder path\n",
    "path = r'C:\\Users\\prena\\05-2023 Himalayan Expeditions Analysis'"
   ]
  },
  {
   "cell_type": "code",
   "execution_count": 3,
   "id": "fca07b63",
   "metadata": {},
   "outputs": [],
   "source": [
    "# Importing orders_products_combined.pkl dataset\n",
    "df_exp = pd.read_pickle(os.path.join(path, '02 Data', 'Prepared Data', 'expeditions_clean.pkl'))"
   ]
  },
  {
   "cell_type": "code",
   "execution_count": 4,
   "id": "7970bf71",
   "metadata": {},
   "outputs": [],
   "source": [
    "pd.set_option('display.max_columns', None)"
   ]
  },
  {
   "cell_type": "code",
   "execution_count": 5,
   "id": "e48192ec",
   "metadata": {},
   "outputs": [],
   "source": [
    "pd.set_option(\"display.max_rows\", None)"
   ]
  },
  {
   "cell_type": "code",
   "execution_count": 6,
   "id": "e0b2a3c4",
   "metadata": {
    "scrolled": true
   },
   "outputs": [
    {
     "data": {
      "text/html": [
       "<div>\n",
       "<style scoped>\n",
       "    .dataframe tbody tr th:only-of-type {\n",
       "        vertical-align: middle;\n",
       "    }\n",
       "\n",
       "    .dataframe tbody tr th {\n",
       "        vertical-align: top;\n",
       "    }\n",
       "\n",
       "    .dataframe thead th {\n",
       "        text-align: right;\n",
       "    }\n",
       "</style>\n",
       "<table border=\"1\" class=\"dataframe\">\n",
       "  <thead>\n",
       "    <tr style=\"text-align: right;\">\n",
       "      <th></th>\n",
       "      <th>year</th>\n",
       "      <th>total_days</th>\n",
       "      <th>max_elev_reached</th>\n",
       "      <th>total_mbrs</th>\n",
       "      <th>mbrs_summited</th>\n",
       "      <th>mbrs_deaths</th>\n",
       "      <th>hired_abc</th>\n",
       "      <th>hired_summits</th>\n",
       "      <th>hired_deaths</th>\n",
       "      <th>is_no_hired_abc</th>\n",
       "      <th>is_o2_not_used</th>\n",
       "      <th>is_o2_climbing</th>\n",
       "      <th>is_o2_descent</th>\n",
       "      <th>is_o2_sleeping</th>\n",
       "      <th>is_o2_medical</th>\n",
       "      <th>is_o2_used</th>\n",
       "      <th>had_o2_unused</th>\n",
       "      <th>is_o2_unkwn_2</th>\n",
       "      <th>o2_check</th>\n",
       "    </tr>\n",
       "  </thead>\n",
       "  <tbody>\n",
       "    <tr>\n",
       "      <th>count</th>\n",
       "      <td>7982.000000</td>\n",
       "      <td>7982.000000</td>\n",
       "      <td>7982.000000</td>\n",
       "      <td>7982.000000</td>\n",
       "      <td>7982.000000</td>\n",
       "      <td>7982.000000</td>\n",
       "      <td>7982.000000</td>\n",
       "      <td>7982.000000</td>\n",
       "      <td>7982.000000</td>\n",
       "      <td>7982.000000</td>\n",
       "      <td>7982.000000</td>\n",
       "      <td>7982.000000</td>\n",
       "      <td>7982.000000</td>\n",
       "      <td>7982.000000</td>\n",
       "      <td>7982.000000</td>\n",
       "      <td>7982.000000</td>\n",
       "      <td>7982.000000</td>\n",
       "      <td>7982.000000</td>\n",
       "      <td>7982.000000</td>\n",
       "    </tr>\n",
       "    <tr>\n",
       "      <th>mean</th>\n",
       "      <td>2003.619394</td>\n",
       "      <td>26.552117</td>\n",
       "      <td>7451.066775</td>\n",
       "      <td>5.798797</td>\n",
       "      <td>1.873089</td>\n",
       "      <td>0.061639</td>\n",
       "      <td>2.770358</td>\n",
       "      <td>1.061889</td>\n",
       "      <td>0.027186</td>\n",
       "      <td>0.325232</td>\n",
       "      <td>0.681533</td>\n",
       "      <td>0.278752</td>\n",
       "      <td>0.015535</td>\n",
       "      <td>0.168379</td>\n",
       "      <td>0.034453</td>\n",
       "      <td>0.314959</td>\n",
       "      <td>0.100476</td>\n",
       "      <td>0.004385</td>\n",
       "      <td>1.598472</td>\n",
       "    </tr>\n",
       "    <tr>\n",
       "      <th>std</th>\n",
       "      <td>11.849882</td>\n",
       "      <td>15.573310</td>\n",
       "      <td>1009.599699</td>\n",
       "      <td>5.076570</td>\n",
       "      <td>2.843591</td>\n",
       "      <td>0.323586</td>\n",
       "      <td>4.697144</td>\n",
       "      <td>2.419158</td>\n",
       "      <td>0.237743</td>\n",
       "      <td>0.468491</td>\n",
       "      <td>0.465911</td>\n",
       "      <td>0.448413</td>\n",
       "      <td>0.123675</td>\n",
       "      <td>0.374226</td>\n",
       "      <td>0.182400</td>\n",
       "      <td>0.464529</td>\n",
       "      <td>0.300653</td>\n",
       "      <td>0.066077</td>\n",
       "      <td>0.797039</td>\n",
       "    </tr>\n",
       "    <tr>\n",
       "      <th>min</th>\n",
       "      <td>1921.000000</td>\n",
       "      <td>1.000000</td>\n",
       "      <td>3800.000000</td>\n",
       "      <td>1.000000</td>\n",
       "      <td>0.000000</td>\n",
       "      <td>0.000000</td>\n",
       "      <td>0.000000</td>\n",
       "      <td>0.000000</td>\n",
       "      <td>0.000000</td>\n",
       "      <td>0.000000</td>\n",
       "      <td>0.000000</td>\n",
       "      <td>0.000000</td>\n",
       "      <td>0.000000</td>\n",
       "      <td>0.000000</td>\n",
       "      <td>0.000000</td>\n",
       "      <td>0.000000</td>\n",
       "      <td>0.000000</td>\n",
       "      <td>0.000000</td>\n",
       "      <td>1.000000</td>\n",
       "    </tr>\n",
       "    <tr>\n",
       "      <th>25%</th>\n",
       "      <td>1998.000000</td>\n",
       "      <td>14.000000</td>\n",
       "      <td>6800.000000</td>\n",
       "      <td>2.000000</td>\n",
       "      <td>0.000000</td>\n",
       "      <td>0.000000</td>\n",
       "      <td>0.000000</td>\n",
       "      <td>0.000000</td>\n",
       "      <td>0.000000</td>\n",
       "      <td>0.000000</td>\n",
       "      <td>0.000000</td>\n",
       "      <td>0.000000</td>\n",
       "      <td>0.000000</td>\n",
       "      <td>0.000000</td>\n",
       "      <td>0.000000</td>\n",
       "      <td>0.000000</td>\n",
       "      <td>0.000000</td>\n",
       "      <td>0.000000</td>\n",
       "      <td>1.000000</td>\n",
       "    </tr>\n",
       "    <tr>\n",
       "      <th>50%</th>\n",
       "      <td>2006.000000</td>\n",
       "      <td>25.000000</td>\n",
       "      <td>7400.000000</td>\n",
       "      <td>4.000000</td>\n",
       "      <td>1.000000</td>\n",
       "      <td>0.000000</td>\n",
       "      <td>2.000000</td>\n",
       "      <td>0.000000</td>\n",
       "      <td>0.000000</td>\n",
       "      <td>0.000000</td>\n",
       "      <td>1.000000</td>\n",
       "      <td>0.000000</td>\n",
       "      <td>0.000000</td>\n",
       "      <td>0.000000</td>\n",
       "      <td>0.000000</td>\n",
       "      <td>0.000000</td>\n",
       "      <td>0.000000</td>\n",
       "      <td>0.000000</td>\n",
       "      <td>1.000000</td>\n",
       "    </tr>\n",
       "    <tr>\n",
       "      <th>75%</th>\n",
       "      <td>2012.000000</td>\n",
       "      <td>37.000000</td>\n",
       "      <td>8188.000000</td>\n",
       "      <td>8.000000</td>\n",
       "      <td>3.000000</td>\n",
       "      <td>0.000000</td>\n",
       "      <td>3.000000</td>\n",
       "      <td>1.000000</td>\n",
       "      <td>0.000000</td>\n",
       "      <td>1.000000</td>\n",
       "      <td>1.000000</td>\n",
       "      <td>1.000000</td>\n",
       "      <td>0.000000</td>\n",
       "      <td>0.000000</td>\n",
       "      <td>0.000000</td>\n",
       "      <td>1.000000</td>\n",
       "      <td>0.000000</td>\n",
       "      <td>0.000000</td>\n",
       "      <td>2.000000</td>\n",
       "    </tr>\n",
       "    <tr>\n",
       "      <th>max</th>\n",
       "      <td>2020.000000</td>\n",
       "      <td>280.000000</td>\n",
       "      <td>8850.000000</td>\n",
       "      <td>99.000000</td>\n",
       "      <td>32.000000</td>\n",
       "      <td>5.000000</td>\n",
       "      <td>99.000000</td>\n",
       "      <td>43.000000</td>\n",
       "      <td>7.000000</td>\n",
       "      <td>1.000000</td>\n",
       "      <td>1.000000</td>\n",
       "      <td>1.000000</td>\n",
       "      <td>1.000000</td>\n",
       "      <td>1.000000</td>\n",
       "      <td>1.000000</td>\n",
       "      <td>1.000000</td>\n",
       "      <td>1.000000</td>\n",
       "      <td>1.000000</td>\n",
       "      <td>5.000000</td>\n",
       "    </tr>\n",
       "  </tbody>\n",
       "</table>\n",
       "</div>"
      ],
      "text/plain": [
       "              year   total_days  max_elev_reached   total_mbrs  mbrs_summited  \\\n",
       "count  7982.000000  7982.000000       7982.000000  7982.000000    7982.000000   \n",
       "mean   2003.619394    26.552117       7451.066775     5.798797       1.873089   \n",
       "std      11.849882    15.573310       1009.599699     5.076570       2.843591   \n",
       "min    1921.000000     1.000000       3800.000000     1.000000       0.000000   \n",
       "25%    1998.000000    14.000000       6800.000000     2.000000       0.000000   \n",
       "50%    2006.000000    25.000000       7400.000000     4.000000       1.000000   \n",
       "75%    2012.000000    37.000000       8188.000000     8.000000       3.000000   \n",
       "max    2020.000000   280.000000       8850.000000    99.000000      32.000000   \n",
       "\n",
       "       mbrs_deaths    hired_abc  hired_summits  hired_deaths  is_no_hired_abc  \\\n",
       "count  7982.000000  7982.000000    7982.000000   7982.000000      7982.000000   \n",
       "mean      0.061639     2.770358       1.061889      0.027186         0.325232   \n",
       "std       0.323586     4.697144       2.419158      0.237743         0.468491   \n",
       "min       0.000000     0.000000       0.000000      0.000000         0.000000   \n",
       "25%       0.000000     0.000000       0.000000      0.000000         0.000000   \n",
       "50%       0.000000     2.000000       0.000000      0.000000         0.000000   \n",
       "75%       0.000000     3.000000       1.000000      0.000000         1.000000   \n",
       "max       5.000000    99.000000      43.000000      7.000000         1.000000   \n",
       "\n",
       "       is_o2_not_used  is_o2_climbing  is_o2_descent  is_o2_sleeping  \\\n",
       "count     7982.000000     7982.000000    7982.000000     7982.000000   \n",
       "mean         0.681533        0.278752       0.015535        0.168379   \n",
       "std          0.465911        0.448413       0.123675        0.374226   \n",
       "min          0.000000        0.000000       0.000000        0.000000   \n",
       "25%          0.000000        0.000000       0.000000        0.000000   \n",
       "50%          1.000000        0.000000       0.000000        0.000000   \n",
       "75%          1.000000        1.000000       0.000000        0.000000   \n",
       "max          1.000000        1.000000       1.000000        1.000000   \n",
       "\n",
       "       is_o2_medical   is_o2_used  had_o2_unused  is_o2_unkwn_2     o2_check  \n",
       "count    7982.000000  7982.000000    7982.000000    7982.000000  7982.000000  \n",
       "mean        0.034453     0.314959       0.100476       0.004385     1.598472  \n",
       "std         0.182400     0.464529       0.300653       0.066077     0.797039  \n",
       "min         0.000000     0.000000       0.000000       0.000000     1.000000  \n",
       "25%         0.000000     0.000000       0.000000       0.000000     1.000000  \n",
       "50%         0.000000     0.000000       0.000000       0.000000     1.000000  \n",
       "75%         0.000000     1.000000       0.000000       0.000000     2.000000  \n",
       "max         1.000000     1.000000       1.000000       1.000000     5.000000  "
      ]
     },
     "execution_count": 6,
     "metadata": {},
     "output_type": "execute_result"
    }
   ],
   "source": [
    "df_exp.describe()"
   ]
  },
  {
   "cell_type": "code",
   "execution_count": 7,
   "id": "1e09dcd1",
   "metadata": {},
   "outputs": [
    {
     "data": {
      "text/plain": [
       "(7982, 27)"
      ]
     },
     "execution_count": 7,
     "metadata": {},
     "output_type": "execute_result"
    }
   ],
   "source": [
    "df_exp.shape"
   ]
  },
  {
   "cell_type": "markdown",
   "id": "8ad57f42",
   "metadata": {},
   "source": [
    "## 2. Dropping outliers from complete dataset"
   ]
  },
  {
   "cell_type": "markdown",
   "id": "80ab53ad",
   "metadata": {},
   "source": [
    "#### Dropping outliers max_elev_reached"
   ]
  },
  {
   "cell_type": "markdown",
   "id": "815756f2",
   "metadata": {},
   "source": [
    "Our previous script told us that there were 15 outliers for max_elev_reached. By dropping these outliers, our record count should go from 7982 to 7967."
   ]
  },
  {
   "cell_type": "code",
   "execution_count": 8,
   "id": "11980352",
   "metadata": {},
   "outputs": [
    {
     "data": {
      "text/plain": [
       "(7967, 27)"
      ]
     },
     "execution_count": 8,
     "metadata": {},
     "output_type": "execute_result"
    }
   ],
   "source": [
    "df_exp[(df_exp.max_elev_reached >= 4718) & (df_exp.max_elev_reached <= 10270)].shape"
   ]
  },
  {
   "cell_type": "code",
   "execution_count": 9,
   "id": "9547acdf",
   "metadata": {},
   "outputs": [],
   "source": [
    "df_no_outs_1 = df_exp[(df_exp.max_elev_reached >= 4718) & (df_exp.max_elev_reached <= 10270)]"
   ]
  },
  {
   "cell_type": "code",
   "execution_count": 10,
   "id": "528c84cc",
   "metadata": {},
   "outputs": [
    {
     "data": {
      "text/plain": [
       "(7967, 27)"
      ]
     },
     "execution_count": 10,
     "metadata": {},
     "output_type": "execute_result"
    }
   ],
   "source": [
    "df_no_outs_1.shape"
   ]
  },
  {
   "cell_type": "markdown",
   "id": "fecab7a5",
   "metadata": {},
   "source": [
    "#### Dropping outliers total_mbrs"
   ]
  },
  {
   "cell_type": "code",
   "execution_count": 11,
   "id": "6de25a24",
   "metadata": {},
   "outputs": [
    {
     "data": {
      "text/plain": [
       "(7736, 27)"
      ]
     },
     "execution_count": 11,
     "metadata": {},
     "output_type": "execute_result"
    }
   ],
   "source": [
    "df_no_outs_1[(df_no_outs_1.total_mbrs >= -7) & (df_no_outs_1.total_mbrs <= 17)].shape"
   ]
  },
  {
   "cell_type": "code",
   "execution_count": 12,
   "id": "119eab12",
   "metadata": {},
   "outputs": [
    {
     "data": {
      "text/plain": [
       "231"
      ]
     },
     "execution_count": 12,
     "metadata": {},
     "output_type": "execute_result"
    }
   ],
   "source": [
    "7963 - 7732"
   ]
  },
  {
   "cell_type": "code",
   "execution_count": 13,
   "id": "ad796655",
   "metadata": {},
   "outputs": [],
   "source": [
    "df_no_outs_2 = df_no_outs_1[(df_no_outs_1.total_mbrs >= -7) & (df_no_outs_1.total_mbrs <= 17)]"
   ]
  },
  {
   "cell_type": "markdown",
   "id": "c300cf0e",
   "metadata": {},
   "source": [
    "Our previous script told us that there were 231 outliers for field 'total_mbrs.' This tells us that there were no records that had outliers for  both max_elev_reached and total_mbrs fields. By dropping these outliers, our record count should go from 7967 to 7736. "
   ]
  },
  {
   "cell_type": "code",
   "execution_count": 14,
   "id": "7a994852",
   "metadata": {},
   "outputs": [
    {
     "data": {
      "text/plain": [
       "(7736, 27)"
      ]
     },
     "execution_count": 14,
     "metadata": {},
     "output_type": "execute_result"
    }
   ],
   "source": [
    "df_no_outs_2.shape"
   ]
  },
  {
   "cell_type": "markdown",
   "id": "c81fdc55",
   "metadata": {},
   "source": [
    "#### Dropping outliers total_days"
   ]
  },
  {
   "cell_type": "code",
   "execution_count": 15,
   "id": "6f4d1283",
   "metadata": {},
   "outputs": [
    {
     "data": {
      "text/plain": [
       "(7701, 27)"
      ]
     },
     "execution_count": 15,
     "metadata": {},
     "output_type": "execute_result"
    }
   ],
   "source": [
    "df_no_outs_2[(df_no_outs_2.total_days > -20.5) & (df_no_outs_2.total_days <= 71.5)].shape"
   ]
  },
  {
   "cell_type": "code",
   "execution_count": 16,
   "id": "4a198087",
   "metadata": {},
   "outputs": [
    {
     "data": {
      "text/plain": [
       "35"
      ]
     },
     "execution_count": 16,
     "metadata": {},
     "output_type": "execute_result"
    }
   ],
   "source": [
    "7736 - 7701"
   ]
  },
  {
   "cell_type": "markdown",
   "id": "5b63fb70",
   "metadata": {},
   "source": [
    "Our previous script told us that there were 50 outliers for field 'total_days', while there is only 35 records with outliers when using the dataframe that has dropped outliers for max_elev_reached and total_mbrs. \n",
    "\n",
    "This tells us that there were 15 records that had an outlier for total_days and an outlier for either max_elev_reached or total_mbrs. By dropping these remaining 35 records that have outliers for total_days, our record count should go from 7736 to 7701."
   ]
  },
  {
   "cell_type": "code",
   "execution_count": 17,
   "id": "e1eacb6a",
   "metadata": {},
   "outputs": [],
   "source": [
    "df_no_outs_3 = df_no_outs_2[(df_no_outs_2.total_days > -20.5) & (df_no_outs_2.total_days <= 71.5)]"
   ]
  },
  {
   "cell_type": "code",
   "execution_count": 18,
   "id": "3dba1112",
   "metadata": {},
   "outputs": [
    {
     "data": {
      "text/plain": [
       "(7701, 27)"
      ]
     },
     "execution_count": 18,
     "metadata": {},
     "output_type": "execute_result"
    }
   ],
   "source": [
    "df_no_outs_3.shape"
   ]
  },
  {
   "cell_type": "markdown",
   "id": "991f75d3",
   "metadata": {},
   "source": [
    "## 3. Creating subset for 1990 - 2020 data"
   ]
  },
  {
   "cell_type": "code",
   "execution_count": 19,
   "id": "538b80c0",
   "metadata": {},
   "outputs": [
    {
     "data": {
      "text/plain": [
       "(6845, 27)"
      ]
     },
     "execution_count": 19,
     "metadata": {},
     "output_type": "execute_result"
    }
   ],
   "source": [
    "df_no_outs_3[df_no_outs_3['year']>=1990].shape"
   ]
  },
  {
   "cell_type": "code",
   "execution_count": 20,
   "id": "d5f39464",
   "metadata": {},
   "outputs": [],
   "source": [
    "df_exp_recent = df_no_outs_3[df_no_outs_3['year']>=1990]"
   ]
  },
  {
   "cell_type": "code",
   "execution_count": 21,
   "id": "a3b93551",
   "metadata": {},
   "outputs": [
    {
     "data": {
      "text/plain": [
       "(6845, 27)"
      ]
     },
     "execution_count": 21,
     "metadata": {},
     "output_type": "execute_result"
    }
   ],
   "source": [
    "df_exp_recent.shape"
   ]
  },
  {
   "cell_type": "markdown",
   "id": "26f0b136",
   "metadata": {},
   "source": [
    "## 4. Exporting df_no_outs_3 to 'expeditions_clean_2.pkl'"
   ]
  },
  {
   "cell_type": "code",
   "execution_count": 22,
   "id": "d8d60da2",
   "metadata": {},
   "outputs": [],
   "source": [
    "# Export data to pkl\n",
    "df_no_outs_3.to_pickle(os.path.join(path, '02 Data','Prepared Data', 'expeditions_clean_2.pkl'))"
   ]
  },
  {
   "cell_type": "markdown",
   "id": "da30a986",
   "metadata": {},
   "source": [
    "## 5. Exporting df_exp_recent to 'expeditions_recent_subset.pkl'"
   ]
  },
  {
   "cell_type": "code",
   "execution_count": 23,
   "id": "47dd244a",
   "metadata": {},
   "outputs": [],
   "source": [
    "# Export data to pkl\n",
    "df_exp_recent.to_pickle(os.path.join(path, '02 Data','Prepared Data', 'expeditions_30yrs_subset.pkl'))"
   ]
  },
  {
   "cell_type": "markdown",
   "id": "9bd63498",
   "metadata": {},
   "source": [
    "## 6. Population Flow\n",
    "<i>Note, subset filtering out peaks is created in script \"Exploring Relationships\"</i>"
   ]
  },
  {
   "attachments": {},
   "cell_type": "markdown",
   "id": "215ceed3",
   "metadata": {},
   "source": []
  },
  {
   "cell_type": "code",
   "execution_count": null,
   "id": "289ca726",
   "metadata": {},
   "outputs": [],
   "source": []
  }
 ],
 "metadata": {
  "kernelspec": {
   "display_name": "Python 3 (ipykernel)",
   "language": "python",
   "name": "python3"
  },
  "language_info": {
   "codemirror_mode": {
    "name": "ipython",
    "version": 3
   },
   "file_extension": ".py",
   "mimetype": "text/x-python",
   "name": "python",
   "nbconvert_exporter": "python",
   "pygments_lexer": "ipython3",
   "version": "3.9.13"
  }
 },
 "nbformat": 4,
 "nbformat_minor": 5
}
