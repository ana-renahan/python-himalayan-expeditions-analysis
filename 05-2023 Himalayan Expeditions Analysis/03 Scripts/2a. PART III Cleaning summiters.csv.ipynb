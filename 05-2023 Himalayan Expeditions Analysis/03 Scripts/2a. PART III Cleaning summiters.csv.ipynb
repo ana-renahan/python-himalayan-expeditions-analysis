{
 "cells": [
  {
   "cell_type": "markdown",
   "id": "2ba441b8",
   "metadata": {},
   "source": [
    "### This script contains the following points:\n",
    "#### Section 1. Importing Libraries, Defining Project Path, Importing Dataset \"summiters.csv\" \n",
    "\n",
    "#### Section 2. Exporting 'df_sums' to view in Excel\n",
    "\n",
    "#### Section 3. Importing 'df_sums_cleaner' to finish cleaning step checks\n",
    "\n",
    "#### Section 4. Cleaning Data\n"
   ]
  },
  {
   "cell_type": "markdown",
   "id": "043ada63",
   "metadata": {},
   "source": [
    "## Section 1. Importing Libraries, Defining Project Path, Importing Dataset \"summiters.csv\""
   ]
  },
  {
   "cell_type": "code",
   "execution_count": 1,
   "id": "3cdc278b",
   "metadata": {},
   "outputs": [],
   "source": [
    "# Importing pandas, numpy, and os\n",
    "import pandas as pd\n",
    "import numpy as np\n",
    "import seaborn as sns\n",
    "import matplotlib\n",
    "import matplotlib.pyplot as plt\n",
    "import os"
   ]
  },
  {
   "cell_type": "code",
   "execution_count": 2,
   "id": "8e19d471",
   "metadata": {},
   "outputs": [],
   "source": [
    "# Defining project folder path\n",
    "path = r'C:\\Users\\prena\\05-2023 Himalayan Expeditions Analysis'"
   ]
  },
  {
   "cell_type": "code",
   "execution_count": 3,
   "id": "8d19d944",
   "metadata": {},
   "outputs": [
    {
     "data": {
      "text/plain": [
       "'C:\\\\Users\\\\prena\\\\05-2023 Himalayan Expeditions Analysis'"
      ]
     },
     "execution_count": 3,
     "metadata": {},
     "output_type": "execute_result"
    }
   ],
   "source": [
    "path"
   ]
  },
  {
   "cell_type": "code",
   "execution_count": 4,
   "id": "9f3333bf",
   "metadata": {},
   "outputs": [],
   "source": [
    "# Importing summiters.csv dataset (PRIMARY)\n",
    "df_sums = pd.read_csv(os.path.join(path, '02 Data', 'Original Data', 'summiters.csv'), index_col = False)"
   ]
  },
  {
   "cell_type": "code",
   "execution_count": 5,
   "id": "18c5cfd0",
   "metadata": {},
   "outputs": [
    {
     "data": {
      "text/html": [
       "<div>\n",
       "<style scoped>\n",
       "    .dataframe tbody tr th:only-of-type {\n",
       "        vertical-align: middle;\n",
       "    }\n",
       "\n",
       "    .dataframe tbody tr th {\n",
       "        vertical-align: top;\n",
       "    }\n",
       "\n",
       "    .dataframe thead th {\n",
       "        text-align: right;\n",
       "    }\n",
       "</style>\n",
       "<table border=\"1\" class=\"dataframe\">\n",
       "  <thead>\n",
       "    <tr style=\"text-align: right;\">\n",
       "      <th></th>\n",
       "      <th>peak_id</th>\n",
       "      <th>peak_name</th>\n",
       "      <th>name</th>\n",
       "      <th>yr_season</th>\n",
       "      <th>date</th>\n",
       "      <th>time</th>\n",
       "      <th>citizenship</th>\n",
       "      <th>gender</th>\n",
       "      <th>age</th>\n",
       "      <th>is_o2_used</th>\n",
       "      <th>died_on_descent</th>\n",
       "      <th>host_country</th>\n",
       "    </tr>\n",
       "  </thead>\n",
       "  <tbody>\n",
       "    <tr>\n",
       "      <th>0</th>\n",
       "      <td>ACHN</td>\n",
       "      <td>Aichyn</td>\n",
       "      <td>Kaya Ko</td>\n",
       "      <td>2015 Aut</td>\n",
       "      <td>Sep 03</td>\n",
       "      <td>13:15</td>\n",
       "      <td>Japan</td>\n",
       "      <td>F</td>\n",
       "      <td>23</td>\n",
       "      <td>No</td>\n",
       "      <td>.</td>\n",
       "      <td>Nepal</td>\n",
       "    </tr>\n",
       "    <tr>\n",
       "      <th>1</th>\n",
       "      <td>ACHN</td>\n",
       "      <td>Aichyn</td>\n",
       "      <td>Yuma Ono</td>\n",
       "      <td>2015 Aut</td>\n",
       "      <td>Sep 03</td>\n",
       "      <td>13:15</td>\n",
       "      <td>Japan</td>\n",
       "      <td>M</td>\n",
       "      <td>19</td>\n",
       "      <td>No</td>\n",
       "      <td>.</td>\n",
       "      <td>Nepal</td>\n",
       "    </tr>\n",
       "    <tr>\n",
       "      <th>2</th>\n",
       "      <td>ACHN</td>\n",
       "      <td>Aichyn</td>\n",
       "      <td>Shintaro Saito</td>\n",
       "      <td>2015 Aut</td>\n",
       "      <td>Sep 03</td>\n",
       "      <td>13:15</td>\n",
       "      <td>Japan</td>\n",
       "      <td>M</td>\n",
       "      <td>25</td>\n",
       "      <td>No</td>\n",
       "      <td>.</td>\n",
       "      <td>Nepal</td>\n",
       "    </tr>\n",
       "    <tr>\n",
       "      <th>3</th>\n",
       "      <td>ACHN</td>\n",
       "      <td>Aichyn</td>\n",
       "      <td>Hiroki (Yuki) Senda</td>\n",
       "      <td>2015 Aut</td>\n",
       "      <td>Sep 03</td>\n",
       "      <td>13:15</td>\n",
       "      <td>Japan</td>\n",
       "      <td>M</td>\n",
       "      <td>23</td>\n",
       "      <td>No</td>\n",
       "      <td>.</td>\n",
       "      <td>Nepal</td>\n",
       "    </tr>\n",
       "    <tr>\n",
       "      <th>4</th>\n",
       "      <td>ACHN</td>\n",
       "      <td>Aichyn</td>\n",
       "      <td>Yuto Tamaki</td>\n",
       "      <td>2015 Aut</td>\n",
       "      <td>Sep 03</td>\n",
       "      <td>13:15</td>\n",
       "      <td>Japan</td>\n",
       "      <td>M</td>\n",
       "      <td>22</td>\n",
       "      <td>No</td>\n",
       "      <td>.</td>\n",
       "      <td>Nepal</td>\n",
       "    </tr>\n",
       "  </tbody>\n",
       "</table>\n",
       "</div>"
      ],
      "text/plain": [
       "  peak_id peak_name                 name yr_season    date   time citizenship  \\\n",
       "0    ACHN    Aichyn              Kaya Ko  2015 Aut  Sep 03  13:15       Japan   \n",
       "1    ACHN    Aichyn             Yuma Ono  2015 Aut  Sep 03  13:15       Japan   \n",
       "2    ACHN    Aichyn       Shintaro Saito  2015 Aut  Sep 03  13:15       Japan   \n",
       "3    ACHN    Aichyn  Hiroki (Yuki) Senda  2015 Aut  Sep 03  13:15       Japan   \n",
       "4    ACHN    Aichyn          Yuto Tamaki  2015 Aut  Sep 03  13:15       Japan   \n",
       "\n",
       "  gender  age is_o2_used died_on_descent host_country  \n",
       "0      F   23         No               .        Nepal  \n",
       "1      M   19         No               .        Nepal  \n",
       "2      M   25         No               .        Nepal  \n",
       "3      M   23         No               .        Nepal  \n",
       "4      M   22         No               .        Nepal  "
      ]
     },
     "execution_count": 5,
     "metadata": {},
     "output_type": "execute_result"
    }
   ],
   "source": [
    "df_sums.head()"
   ]
  },
  {
   "cell_type": "code",
   "execution_count": 6,
   "id": "dfa5d28d",
   "metadata": {},
   "outputs": [],
   "source": [
    "df_sums_subset = df_sums[['yr_season','date']]"
   ]
  },
  {
   "cell_type": "code",
   "execution_count": 7,
   "id": "d180516c",
   "metadata": {
    "scrolled": true
   },
   "outputs": [
    {
     "data": {
      "text/html": [
       "<div>\n",
       "<style scoped>\n",
       "    .dataframe tbody tr th:only-of-type {\n",
       "        vertical-align: middle;\n",
       "    }\n",
       "\n",
       "    .dataframe tbody tr th {\n",
       "        vertical-align: top;\n",
       "    }\n",
       "\n",
       "    .dataframe thead th {\n",
       "        text-align: right;\n",
       "    }\n",
       "</style>\n",
       "<table border=\"1\" class=\"dataframe\">\n",
       "  <thead>\n",
       "    <tr style=\"text-align: right;\">\n",
       "      <th></th>\n",
       "      <th>yr_season</th>\n",
       "      <th>date</th>\n",
       "    </tr>\n",
       "  </thead>\n",
       "  <tbody>\n",
       "    <tr>\n",
       "      <th>0</th>\n",
       "      <td>2015 Aut</td>\n",
       "      <td>Sep 03</td>\n",
       "    </tr>\n",
       "    <tr>\n",
       "      <th>1</th>\n",
       "      <td>2015 Aut</td>\n",
       "      <td>Sep 03</td>\n",
       "    </tr>\n",
       "    <tr>\n",
       "      <th>2</th>\n",
       "      <td>2015 Aut</td>\n",
       "      <td>Sep 03</td>\n",
       "    </tr>\n",
       "    <tr>\n",
       "      <th>3</th>\n",
       "      <td>2015 Aut</td>\n",
       "      <td>Sep 03</td>\n",
       "    </tr>\n",
       "    <tr>\n",
       "      <th>4</th>\n",
       "      <td>2015 Aut</td>\n",
       "      <td>Sep 03</td>\n",
       "    </tr>\n",
       "    <tr>\n",
       "      <th>...</th>\n",
       "      <td>...</td>\n",
       "      <td>...</td>\n",
       "    </tr>\n",
       "    <tr>\n",
       "      <th>30674</th>\n",
       "      <td>2017 Aut</td>\n",
       "      <td>Oct 29</td>\n",
       "    </tr>\n",
       "    <tr>\n",
       "      <th>30675</th>\n",
       "      <td>2017 Aut</td>\n",
       "      <td>Oct 29</td>\n",
       "    </tr>\n",
       "    <tr>\n",
       "      <th>30676</th>\n",
       "      <td>1989 Aut</td>\n",
       "      <td>Dec 31</td>\n",
       "    </tr>\n",
       "    <tr>\n",
       "      <th>30677</th>\n",
       "      <td>1989 Aut</td>\n",
       "      <td>Dec 31</td>\n",
       "    </tr>\n",
       "    <tr>\n",
       "      <th>30678</th>\n",
       "      <td>1989 Aut</td>\n",
       "      <td>Dec 31</td>\n",
       "    </tr>\n",
       "  </tbody>\n",
       "</table>\n",
       "<p>30679 rows × 2 columns</p>\n",
       "</div>"
      ],
      "text/plain": [
       "      yr_season    date\n",
       "0      2015 Aut  Sep 03\n",
       "1      2015 Aut  Sep 03\n",
       "2      2015 Aut  Sep 03\n",
       "3      2015 Aut  Sep 03\n",
       "4      2015 Aut  Sep 03\n",
       "...         ...     ...\n",
       "30674  2017 Aut  Oct 29\n",
       "30675  2017 Aut  Oct 29\n",
       "30676  1989 Aut  Dec 31\n",
       "30677  1989 Aut  Dec 31\n",
       "30678  1989 Aut  Dec 31\n",
       "\n",
       "[30679 rows x 2 columns]"
      ]
     },
     "execution_count": 7,
     "metadata": {},
     "output_type": "execute_result"
    }
   ],
   "source": [
    "df_sums_subset"
   ]
  },
  {
   "cell_type": "code",
   "execution_count": 18,
   "id": "4c1b474f",
   "metadata": {},
   "outputs": [
    {
     "data": {
      "text/plain": [
       "yr_season    0\n",
       "date         0\n",
       "dtype: int64"
      ]
     },
     "execution_count": 18,
     "metadata": {},
     "output_type": "execute_result"
    }
   ],
   "source": [
    "# Checking for missing values\n",
    "df_sums_subset.isnull().sum()"
   ]
  },
  {
   "cell_type": "markdown",
   "id": "8cf86435",
   "metadata": {},
   "source": [
    "<b>Looking at our 'yr_season' and 'date' columns, it looks as though the year is contained in 'yr_season' while the Month and Day are held in the 'date' column.</b>\n",
    "\n",
    "Ultimately, I want a date column in the format of 'mm/dd/yyyy' in it's own column and then a count of how many summits occured for each 'mm/dd/yyyy' from Jan 1990 to Dec 2019 on a quarterly basis. (Each record in summiters.csv is representative of 1 climber that has summitted, therefore I would need to do a =countifs() in Excel (or a value_counts() in Python) to get a count of how many summiters there were for each quarter.\n",
    "\n",
    "<b>I'm exporting this in Excel to save some time, and will import for the remainder of the checks.</b>"
   ]
  },
  {
   "cell_type": "markdown",
   "id": "5c5e4cd1",
   "metadata": {},
   "source": [
    "## Section 2. Exporting 'df_sums_subset' to view in Excel"
   ]
  },
  {
   "cell_type": "code",
   "execution_count": 8,
   "id": "cb6ed124",
   "metadata": {},
   "outputs": [],
   "source": [
    "# Exporting df_sums_subset to do some right(),left(),concatenate, and sumifs action!\n",
    "df_sums_subset.to_csv(os.path.join(path,'02 Data','Original Data','summits_dates_to_be_fixed.csv')) "
   ]
  },
  {
   "cell_type": "markdown",
   "id": "e3dc0b07",
   "metadata": {},
   "source": [
    "<b>To get to the following table, I took the following steps:</b>\n",
    "\n",
    "1. In the data table, created the following columns out of the 'date' column:\n",
    "    - =Month() -- This is to get the month of the date\n",
    "    - =Day() -- This is to get the day of the month\n",
    "2. In the data table, created the following column out of the 'yr_season' column:\n",
    "    - =left() -- This is to get the year of the summit\n",
    "3. Created a new column to concatenate the day, month, and year in the following date format: mm/dd/yyyy\n",
    "4. Created a new sheet in summiters.csv called summiters_monthly.csv\n",
    "5. Created a \"Date\" column in column A\n",
    "6. Listed each month from 01/01/1990 to 12/01/2019.\n",
    "7. Creatd a new column \"summits\", and used countifs() to count the number of records for each month\n",
    "8. Created a new column \"summits quarterly\", and summed the summits column in a three month interval\n",
    "9. Saved the \"date\" column and \"summits quarterly\" column in a new workbook.\n",
    "10. Removed all \"date\" rows that didn't match our 3 month quarter interval (to allow us to have a 3 month interval with the sum of all summits for those three months)."
   ]
  },
  {
   "cell_type": "markdown",
   "id": "036a3d3d",
   "metadata": {},
   "source": [
    "## Section 3. Importing 'df_sums_cleaner' to finish cleaning step checks"
   ]
  },
  {
   "cell_type": "code",
   "execution_count": 9,
   "id": "94ceee6b",
   "metadata": {},
   "outputs": [],
   "source": [
    "# Importing df_sums_consolidated to finish cleaning steps\n",
    "df_sums_cleaner = pd.read_csv(os.path.join(path, '02 Data', 'Prepared Data', 'summits_30yrs_quarterly.csv'), index_col = False)"
   ]
  },
  {
   "cell_type": "code",
   "execution_count": 10,
   "id": "ec732f21",
   "metadata": {},
   "outputs": [
    {
     "data": {
      "text/html": [
       "<div>\n",
       "<style scoped>\n",
       "    .dataframe tbody tr th:only-of-type {\n",
       "        vertical-align: middle;\n",
       "    }\n",
       "\n",
       "    .dataframe tbody tr th {\n",
       "        vertical-align: top;\n",
       "    }\n",
       "\n",
       "    .dataframe thead th {\n",
       "        text-align: right;\n",
       "    }\n",
       "</style>\n",
       "<table border=\"1\" class=\"dataframe\">\n",
       "  <thead>\n",
       "    <tr style=\"text-align: right;\">\n",
       "      <th></th>\n",
       "      <th>date</th>\n",
       "      <th>summits</th>\n",
       "    </tr>\n",
       "  </thead>\n",
       "  <tbody>\n",
       "    <tr>\n",
       "      <th>0</th>\n",
       "      <td>03/01/1990</td>\n",
       "      <td>0</td>\n",
       "    </tr>\n",
       "    <tr>\n",
       "      <th>1</th>\n",
       "      <td>06/01/1990</td>\n",
       "      <td>95</td>\n",
       "    </tr>\n",
       "    <tr>\n",
       "      <th>2</th>\n",
       "      <td>09/01/1990</td>\n",
       "      <td>28</td>\n",
       "    </tr>\n",
       "    <tr>\n",
       "      <th>3</th>\n",
       "      <td>12/01/1990</td>\n",
       "      <td>190</td>\n",
       "    </tr>\n",
       "    <tr>\n",
       "      <th>4</th>\n",
       "      <td>03/01/1991</td>\n",
       "      <td>0</td>\n",
       "    </tr>\n",
       "    <tr>\n",
       "      <th>...</th>\n",
       "      <td>...</td>\n",
       "      <td>...</td>\n",
       "    </tr>\n",
       "    <tr>\n",
       "      <th>117</th>\n",
       "      <td>06/01/2019</td>\n",
       "      <td>1202</td>\n",
       "    </tr>\n",
       "    <tr>\n",
       "      <th>118</th>\n",
       "      <td>09/01/2019</td>\n",
       "      <td>414</td>\n",
       "    </tr>\n",
       "    <tr>\n",
       "      <th>119</th>\n",
       "      <td>12/01/2019</td>\n",
       "      <td>539</td>\n",
       "    </tr>\n",
       "    <tr>\n",
       "      <th>120</th>\n",
       "      <td>03/01/2020</td>\n",
       "      <td>0</td>\n",
       "    </tr>\n",
       "    <tr>\n",
       "      <th>121</th>\n",
       "      <td>06/01/2020</td>\n",
       "      <td>28</td>\n",
       "    </tr>\n",
       "  </tbody>\n",
       "</table>\n",
       "<p>122 rows × 2 columns</p>\n",
       "</div>"
      ],
      "text/plain": [
       "           date  summits\n",
       "0    03/01/1990        0\n",
       "1    06/01/1990       95\n",
       "2    09/01/1990       28\n",
       "3    12/01/1990      190\n",
       "4    03/01/1991        0\n",
       "..          ...      ...\n",
       "117  06/01/2019     1202\n",
       "118  09/01/2019      414\n",
       "119  12/01/2019      539\n",
       "120  03/01/2020        0\n",
       "121  06/01/2020       28\n",
       "\n",
       "[122 rows x 2 columns]"
      ]
     },
     "execution_count": 10,
     "metadata": {},
     "output_type": "execute_result"
    }
   ],
   "source": [
    "df_sums_cleaner"
   ]
  },
  {
   "cell_type": "markdown",
   "id": "6ff29d81",
   "metadata": {},
   "source": [
    "## Section 4. Cleaning Data"
   ]
  },
  {
   "cell_type": "code",
   "execution_count": 11,
   "id": "30ed43d3",
   "metadata": {
    "scrolled": true
   },
   "outputs": [
    {
     "data": {
      "text/plain": [
       "date       0\n",
       "summits    0\n",
       "dtype: int64"
      ]
     },
     "execution_count": 11,
     "metadata": {},
     "output_type": "execute_result"
    }
   ],
   "source": [
    "# Checking for missing values\n",
    "df_sums_cleaner.isnull().sum()"
   ]
  },
  {
   "cell_type": "code",
   "execution_count": 12,
   "id": "2e787daa",
   "metadata": {},
   "outputs": [],
   "source": [
    "# Checking for duplicates\n",
    "dups = df_sums_cleaner.duplicated()"
   ]
  },
  {
   "cell_type": "code",
   "execution_count": 13,
   "id": "d7fbd3e4",
   "metadata": {},
   "outputs": [
    {
     "data": {
      "text/plain": [
       "(122,)"
      ]
     },
     "execution_count": 13,
     "metadata": {},
     "output_type": "execute_result"
    }
   ],
   "source": [
    "dups.shape"
   ]
  },
  {
   "cell_type": "code",
   "execution_count": 14,
   "id": "e704e51e",
   "metadata": {},
   "outputs": [
    {
     "name": "stderr",
     "output_type": "stream",
     "text": [
      "C:\\Users\\prena\\Anaconda3\\lib\\site-packages\\seaborn\\distributions.py:2619: FutureWarning: `distplot` is a deprecated function and will be removed in a future version. Please adapt your code to use either `displot` (a figure-level function with similar flexibility) or `histplot` (an axes-level function for histograms).\n",
      "  warnings.warn(msg, FutureWarning)\n"
     ]
    },
    {
     "data": {
      "text/plain": [
       "<AxesSubplot:xlabel='summits', ylabel='Density'>"
      ]
     },
     "execution_count": 14,
     "metadata": {},
     "output_type": "execute_result"
    },
    {
     "data": {
      "image/png": "[encoded data removed]",
      "text/plain": [
       "<Figure size 640x480 with 1 Axes>"
      ]
     },
     "metadata": {},
     "output_type": "display_data"
    }
   ],
   "source": [
    "# Checking for extreme values for variables 'mbrs_summited'\n",
    "sns.distplot(df_sums_cleaner['summits'], bins=25)"
   ]
  },
  {
   "cell_type": "code",
   "execution_count": 15,
   "id": "5def93a7",
   "metadata": {},
   "outputs": [
    {
     "data": {
      "text/plain": [
       "221.9262295081967"
      ]
     },
     "execution_count": 15,
     "metadata": {},
     "output_type": "execute_result"
    }
   ],
   "source": [
    "# Checking mean of mbrs_summited\n",
    "df_sums_cleaner['summits'].mean()"
   ]
  },
  {
   "cell_type": "code",
   "execution_count": 16,
   "id": "d38bab12",
   "metadata": {},
   "outputs": [
    {
     "data": {
      "text/plain": [
       "152.5"
      ]
     },
     "execution_count": 16,
     "metadata": {},
     "output_type": "execute_result"
    }
   ],
   "source": [
    "# Checking median of mbrs_summited\n",
    "df_sums_cleaner['summits'].median()"
   ]
  },
  {
   "cell_type": "code",
   "execution_count": 17,
   "id": "b227633c",
   "metadata": {},
   "outputs": [
    {
     "data": {
      "text/plain": [
       "1202"
      ]
     },
     "execution_count": 17,
     "metadata": {},
     "output_type": "execute_result"
    }
   ],
   "source": [
    "# Checking max of mbrs_summited\n",
    "df_sums_cleaner['summits'].max()"
   ]
  },
  {
   "cell_type": "markdown",
   "id": "3c6865e1",
   "metadata": {},
   "source": [
    "<b>Our data is now cleaned, and I will be turning the \"date\" column into the index in script \"7. Time Series Analysis - Summits by Quarter (1990 - 2019)\".</b>"
   ]
  }
 ],
 "metadata": {
  "kernelspec": {
   "display_name": "Python 3 (ipykernel)",
   "language": "python",
   "name": "python3"
  },
  "language_info": {
   "codemirror_mode": {
    "name": "ipython",
    "version": 3
   },
   "file_extension": ".py",
   "mimetype": "text/x-python",
   "name": "python",
   "nbconvert_exporter": "python",
   "pygments_lexer": "ipython3",
   "version": "3.9.13"
  }
 },
 "nbformat": 4,
 "nbformat_minor": 5
}
